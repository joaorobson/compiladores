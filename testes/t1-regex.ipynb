{
 "cells": [
  {
   "cell_type": "markdown",
   "metadata": {},
   "source": [
    "# Teste"
   ]
  },
  {
   "cell_type": "markdown",
   "metadata": {},
   "source": [
    "Antes da submissão final do seu problema, certifique que tudo funciona como esperado. Primeiro, **reinicie o kernel** (Kernel$\\rightarrow$Restart) e depois **execute todas as células** (Cell$\\rightarrow$Run All).\n",
    "\n",
    "Preencha todos lugares que digam `SUA SOLUÇÃO` or `YOUR ANSWER HERE`, e o seu nome e dos colaboradores (outros alunos no grupo) abaixo."
   ]
  },
  {
   "cell_type": "code",
   "execution_count": null,
   "metadata": {},
   "outputs": [],
   "source": [
    "# Instale o maestro, se já não estiver instalado\n",
    "!pip install toolz --user\n",
    "!pip install sidekick  --user\n",
    "!pip install hyperpython  --user\n",
    "!pip install maestro-tools==0.1.0 --user"
   ]
  },
  {
   "cell_type": "code",
   "execution_count": null,
   "metadata": {},
   "outputs": [],
   "source": [
    "# Digite o nome de cada aluno no formato \"Nome (matrícula)\"\n",
    "#\n",
    "# Se você estiver resolvendo a prova sozinho(a), \n",
    "# deixe COLABORATORS como uma string vazia.\n",
    "\n",
    "NAME = \"Nome 1 (1234567)\"\n",
    "COLLABORATORS = \"\""
   ]
  },
  {
   "cell_type": "code",
   "execution_count": null,
   "metadata": {},
   "outputs": [],
   "source": [
    "# Verifica se o nome/matrícula é válido\n",
    "import re\n",
    "\n",
    "regex = re.compile(r'[^\\)]+(\\(.*\\))|')\n",
    "assert all(regex.fullmatch(x) for x in [NAME, COLLABORATORS]), 'Nome incorreto!'"
   ]
  },
  {
   "cell_type": "markdown",
   "metadata": {},
   "source": [
    "---"
   ]
  },
  {
   "cell_type": "code",
   "execution_count": null,
   "metadata": {},
   "outputs": [],
   "source": [
    "import re\n",
    "from maestro.course.compilers import (\n",
    "    CROSSWORD_EXAMPLES as CW, \n",
    "    regex_crossword_table, \n",
    "    check_regex_crossword, \n",
    "    check_regex, \n",
    ")"
   ]
  },
  {
   "cell_type": "markdown",
   "metadata": {
    "deletable": false,
    "editable": false,
    "nbgrader": {
     "checksum": "8e71b78ecff4e43bc52063fc8c4d9b7f",
     "grade": false,
     "grade_id": "cell-4966824801ba28c6",
     "locked": true,
     "schema_version": 1,
     "solution": false
    }
   },
   "source": [
    "---\n",
    "## Regex: abab's (1 pt)\n",
    "\n",
    "Salve uma expressão regular na variável `regex` que reconheça strings formadas por sequências alternadas de a's e b's iniciadas em a."
   ]
  },
  {
   "cell_type": "code",
   "execution_count": null,
   "metadata": {
    "deletable": false,
    "editable": false,
    "nbgrader": {
     "checksum": "a72f74a76b9c87a255ffc83039059877",
     "grade": false,
     "grade_id": "cell-1109dba6f8200671",
     "locked": true,
     "schema_version": 1,
     "solution": false
    }
   },
   "outputs": [],
   "source": [
    "# Lista de casos de teste (não edite!)\n",
    "examples = \"\"\"\n",
    "POSITIVE:\n",
    "a\n",
    "ab\n",
    "aba\n",
    "abababa\n",
    "\n",
    "NEGATIVE:\n",
    "aa\n",
    "bb\n",
    "abba\n",
    "abc\n",
    "ba\n",
    "baba\n",
    "b\n",
    "\"\"\""
   ]
  },
  {
   "cell_type": "code",
   "execution_count": null,
   "metadata": {
    "deletable": false,
    "nbgrader": {
     "checksum": "5167f86bd6979d7d8ffa4748e71bf3e2",
     "grade": false,
     "grade_id": "ababs-answer",
     "locked": false,
     "schema_version": 1,
     "solution": true
    }
   },
   "outputs": [],
   "source": [
    "# Sua resposta aqui!\n",
    "regex = r\"<sua regex>\"\n",
    "..."
   ]
  },
  {
   "cell_type": "code",
   "execution_count": null,
   "metadata": {
    "deletable": false,
    "editable": false,
    "nbgrader": {
     "checksum": "c5ef18b32410d5085aa80a41cf794dd6",
     "grade": true,
     "grade_id": "ababs-test",
     "locked": true,
     "points": 0.75,
     "schema_version": 1,
     "solution": false
    }
   },
   "outputs": [],
   "source": [
    "\"Verifica a expressão regular (75% da nota)\"\n",
    "\n",
    "check_regex(regex, examples)"
   ]
  },
  {
   "cell_type": "code",
   "execution_count": null,
   "metadata": {
    "deletable": false,
    "editable": false,
    "nbgrader": {
     "checksum": "9f06670fa9fd145b47088dfea2ba82e6",
     "grade": true,
     "grade_id": "ababs-size",
     "locked": true,
     "points": 0.25,
     "schema_version": 1,
     "solution": false
    }
   },
   "outputs": [],
   "source": [
    "\"Identifica se resolveu com o número mínimo de caracteres (25% da nota)\"\n",
    "\n",
    "check_regex(regex, examples, max_size=8)"
   ]
  },
  {
   "cell_type": "markdown",
   "metadata": {
    "deletable": false,
    "editable": false,
    "nbgrader": {
     "checksum": "b474fa3467a9fe3ba9d79f9a8c1a5c35",
     "grade": false,
     "grade_id": "cell-4966824dfgdf1ba28c6",
     "locked": true,
     "schema_version": 1,
     "solution": false
    }
   },
   "source": [
    "---\n",
    "## Regex: abab's II (1 pt)\n",
    "\n",
    "Salve uma expressão regular na variável `regex` que reconheça strings formadas por sequências alternadas de a's e b's."
   ]
  },
  {
   "cell_type": "code",
   "execution_count": null,
   "metadata": {
    "deletable": false,
    "editable": false,
    "nbgrader": {
     "checksum": "aebebef08a1fb67087c564a281199804",
     "grade": false,
     "grade_id": "cell-1109dba6f82gh71",
     "locked": true,
     "schema_version": 1,
     "solution": false
    }
   },
   "outputs": [],
   "source": [
    "# Lista de casos de teste (não edite!)\n",
    "examples = \"\"\"\n",
    "POSITIVE:\n",
    "a\n",
    "ab\n",
    "aba\n",
    "abababa\n",
    "b\n",
    "ba\n",
    "bab\n",
    "baba\n",
    "\n",
    "NEGATIVE:\n",
    "aa\n",
    "bb\n",
    "abba\n",
    "abc\n",
    "\"\"\""
   ]
  },
  {
   "cell_type": "code",
   "execution_count": null,
   "metadata": {
    "deletable": false,
    "nbgrader": {
     "checksum": "1d90a27b8da18ab3d38a05ed0561542e",
     "grade": false,
     "grade_id": "ababs2-answer",
     "locked": false,
     "schema_version": 1,
     "solution": true
    }
   },
   "outputs": [],
   "source": [
    "# Sua resposta aqui!\n",
    "regex = r\"<sua regex>\"\n",
    "..."
   ]
  },
  {
   "cell_type": "code",
   "execution_count": null,
   "metadata": {
    "deletable": false,
    "editable": false,
    "nbgrader": {
     "checksum": "fc85d0ba6364c136b8e75100e0a1e59c",
     "grade": true,
     "grade_id": "ababs2-test",
     "locked": true,
     "points": 0.75,
     "schema_version": 1,
     "solution": false
    }
   },
   "outputs": [],
   "source": [
    "\"Verifica a expressão regular (75% da nota)\"\n",
    "\n",
    "check_regex(regex, examples)"
   ]
  },
  {
   "cell_type": "code",
   "execution_count": null,
   "metadata": {
    "deletable": false,
    "editable": false,
    "nbgrader": {
     "checksum": "fa05577fe8341e89ee1218eda46bab60",
     "grade": true,
     "grade_id": "ababs2-size",
     "locked": true,
     "points": 0.25,
     "schema_version": 1,
     "solution": false
    }
   },
   "outputs": [],
   "source": [
    "\"Identifica se resolveu com o número mínimo de caracteres (25% da nota)\"\n",
    "\n",
    "check_regex(regex, examples, max_size=15)"
   ]
  },
  {
   "cell_type": "markdown",
   "metadata": {
    "deletable": false,
    "editable": false,
    "nbgrader": {
     "checksum": "03e5ae387580f3d2eaa95a9bfc0d3726",
     "grade": false,
     "grade_id": "cell-65dc8d020a8bc5fd",
     "locked": true,
     "schema_version": 1,
     "solution": false
    }
   },
   "source": [
    "---\n",
    "## Regex: hexadecimais (0.5 pts)\n",
    "\n",
    "Crie uma expressão regular que identifique números hexadecimais no formato 0xbeef01 ou \n",
    "0xF00BA4."
   ]
  },
  {
   "cell_type": "code",
   "execution_count": null,
   "metadata": {
    "deletable": false,
    "editable": false,
    "nbgrader": {
     "checksum": "6b0539587ed587636938f81bc0144c7f",
     "grade": false,
     "grade_id": "cell-69f096733e88407a",
     "locked": true,
     "schema_version": 1,
     "solution": false
    }
   },
   "outputs": [],
   "source": [
    "# Lista de casos de teste (não edite!)\n",
    "examples = \"\"\"\n",
    "POSITIVE:\n",
    "\n",
    "0x123\n",
    "0x49\n",
    "0xa\n",
    "0xA\n",
    "0xBeef\n",
    "0xF00BA4\n",
    "\n",
    "NEGATIVE:\n",
    "\n",
    "0xFOO\n",
    "0xbar\n",
    "123\n",
    "42\n",
    "Beef\n",
    "0x\n",
    "0\n",
    "\"\"\""
   ]
  },
  {
   "cell_type": "code",
   "execution_count": null,
   "metadata": {
    "deletable": false,
    "nbgrader": {
     "checksum": "50bb77c73aec2fe5d0063a48f0b356e3",
     "grade": false,
     "grade_id": "hex-answer",
     "locked": false,
     "schema_version": 1,
     "solution": true
    }
   },
   "outputs": [],
   "source": [
    "# Sua resposta aqui!\n",
    "regex = r\"<sua regex>\"\n",
    "..."
   ]
  },
  {
   "cell_type": "code",
   "execution_count": null,
   "metadata": {
    "deletable": false,
    "editable": false,
    "nbgrader": {
     "checksum": "ddad7e39ea9adc597bd12938477c26df",
     "grade": true,
     "grade_id": "hex",
     "locked": true,
     "points": 0.25,
     "schema_version": 1,
     "solution": false
    }
   },
   "outputs": [],
   "source": [
    "\"Verifica a expressão regular (50% da nota)\"\n",
    "\n",
    "check_regex(regex, examples)"
   ]
  },
  {
   "cell_type": "code",
   "execution_count": null,
   "metadata": {
    "deletable": false,
    "editable": false,
    "nbgrader": {
     "checksum": "41e87ff4ec5719a294983f704df7718a",
     "grade": true,
     "grade_id": "hex-size",
     "locked": true,
     "points": 0.25,
     "schema_version": 1,
     "solution": false
    }
   },
   "outputs": [],
   "source": [
    "\"Identifica se resolveu com o número mínimo de caracteres (50% da nota)\"\n",
    "\n",
    "check_regex(regex, examples, max_size=13)"
   ]
  },
  {
   "cell_type": "markdown",
   "metadata": {
    "deletable": false,
    "editable": false,
    "nbgrader": {
     "checksum": "3a27ac90c856dd363ad8f4489c0dab6e",
     "grade": false,
     "grade_id": "cell-1e229b8c4d0cd147",
     "locked": true,
     "schema_version": 1,
     "solution": false
    }
   },
   "source": [
    "---\n",
    "## Regex: hexadecimais com underscore (1.5 pts)\n",
    "\n",
    "Crie uma expressão regular que identifique números hexadecimais no formato 0xbeef_01 ou \n",
    "0xF00_BA4 onde os underscores são aceitos entre qualquer dígito hexadecimal, mas não podem \n",
    "aparecer em sequência ou no início ou fim do número."
   ]
  },
  {
   "cell_type": "code",
   "execution_count": null,
   "metadata": {
    "deletable": false,
    "editable": false,
    "nbgrader": {
     "checksum": "0ab6da57222951343546849a9cfac2aa",
     "grade": false,
     "grade_id": "cell-68ec0f478122def0",
     "locked": true,
     "schema_version": 1,
     "solution": false
    }
   },
   "outputs": [],
   "source": [
    "# Lista de casos de teste (não edite!)\n",
    "examples = \"\"\"\n",
    "POSITIVE:\n",
    "\n",
    "0x1_2_3\n",
    "0x49\n",
    "0xAa\n",
    "0x600d\n",
    "0xF00_BA4\n",
    "\n",
    "NEGATIVE:\n",
    "\n",
    "0xbar\n",
    "42\n",
    "Beef\n",
    "0x\n",
    "0x_123\n",
    "0x123_\n",
    "0x600d__123\n",
    "\"\"\""
   ]
  },
  {
   "cell_type": "code",
   "execution_count": null,
   "metadata": {
    "deletable": false,
    "nbgrader": {
     "checksum": "46781583d30fa6b58d90f1c059e17343",
     "grade": false,
     "grade_id": "h_e_x-answer",
     "locked": false,
     "schema_version": 1,
     "solution": true
    }
   },
   "outputs": [],
   "source": [
    "# Sua resposta aqui!\n",
    "regex = r\"<sua regex>\"\n",
    "..."
   ]
  },
  {
   "cell_type": "code",
   "execution_count": null,
   "metadata": {
    "deletable": false,
    "editable": false,
    "nbgrader": {
     "checksum": "8d4c76ffe41fee8704ee3eacb604f56a",
     "grade": true,
     "grade_id": "h_e_x",
     "locked": true,
     "points": 1.125,
     "schema_version": 1,
     "solution": false
    }
   },
   "outputs": [],
   "source": [
    "\"Verifica a expressão regular (75% da nota)\"\n",
    "\n",
    "check_regex(regex, examples)"
   ]
  },
  {
   "cell_type": "code",
   "execution_count": null,
   "metadata": {
    "deletable": false,
    "editable": false,
    "nbgrader": {
     "checksum": "d0dac5e18301e0bca7823b419c88ac3b",
     "grade": true,
     "grade_id": "h_e_x-size",
     "locked": true,
     "points": 0.375,
     "schema_version": 1,
     "solution": false
    }
   },
   "outputs": [],
   "source": [
    "\"Identifica se resolveu com o número mínimo de caracteres (25% da nota)\"\n",
    "\n",
    "check_regex(regex, examples, max_size=28)"
   ]
  },
  {
   "cell_type": "markdown",
   "metadata": {},
   "source": [
    "---\n",
    "## Palavras cruzadas Regex (3pts)\n",
    "\n",
    "Resolva a palavra cruzada de expressões regulares abaixo. A palavra cruzada de expressões regulares funciona de forma parecida com uma palavra cruzada tradicional, mas utiliza expressões regulares para definir o conteúdo de cada linha e cada coluna. \n",
    "\n",
    "Vocë deve completar cada célula na palavra cruzada com uma única letra. A palavra cruzada estará correta se todas linhas e todas colunas satisfizerem as expressões regulares correspondentes.\n",
    "\n",
    "É um jogo que valoriza a lógica e o raciocínio ao invés da memorização. Complete as duas palavras cruzadas abaixo e salve a resposta em uma varável chamada \"answer\", que pode ser uma string onde cada linha corresponde\n",
    "a uma linha da resposta."
   ]
  },
  {
   "cell_type": "markdown",
   "metadata": {
    "deletable": false,
    "editable": false,
    "nbgrader": {
     "checksum": "abced425d706a5db5fc376054ce301ca",
     "grade": false,
     "grade_id": "cell-cbc513539479e247",
     "locked": true,
     "schema_version": 1,
     "solution": false
    }
   },
   "source": [
    "---\n",
    "## Procurando padrões (3pts)\n",
    "\n",
    "O texto abaixo possui vários números que representam grandezas físicas. Crie uma função que identifica e soma os valores de todos os números de uma determinada grandeza física e retorna a soma dos mesmos.\n",
    "\n",
    "```\n",
    "Massa: 42kg\n",
    "Distâncias: 1.51km, -3.21km, +10km\n",
    "Duração: 5.0s\n",
    "```\n",
    "\n",
    "Os números podem ter parte decimal e sinais opcionais. A grandeza física deve seguir o número sem qualquer espaço e consiste apenas em letras maiúsculas ou minúsculas.\n",
    "\n",
    "Utilize o esqueleto fornecido abaixo e não altere a assinatura da função.\n",
    "\n",
    "**Dica**: Digite `re.finditer?` em uma célula para obter a ajuda da função finditer de\n",
    "expressões regulares."
   ]
  },
  {
   "cell_type": "code",
   "execution_count": null,
   "metadata": {
    "deletable": false,
    "nbgrader": {
     "checksum": "e5ae2f892ac8967b2f26120d3c59158a",
     "grade": false,
     "grade_id": "cell-d1209f9b9e4fa066",
     "locked": false,
     "schema_version": 1,
     "solution": true
    }
   },
   "outputs": [],
   "source": [
    "number_re = re.compile(r'([+-]?\\d+(?:\\.\\d+)?)([a-zA-Z]+)')\n",
    "\n",
    "def sum_values(text, kind):\n",
    "    ..."
   ]
  },
  {
   "cell_type": "code",
   "execution_count": null,
   "metadata": {},
   "outputs": [],
   "source": [
    "# Área de experimentação. Faça o que você quiser aqui\n",
    "\n",
    "text = \"\"\"\n",
    "Massa: 42kg\n",
    "Distâncias: 1.51km, -3.21km, +10km\n",
    "Duração: 5.0s\n",
    "\"\"\"\n",
    "sum_values(text, \"km\")"
   ]
  },
  {
   "cell_type": "code",
   "execution_count": null,
   "metadata": {
    "deletable": false,
    "editable": false,
    "nbgrader": {
     "checksum": "521133e72c3bf1e576ba87288511628a",
     "grade": true,
     "grade_id": "cell-6e1db37cde6b2c07",
     "locked": true,
     "points": 0.5,
     "schema_version": 1,
     "solution": false
    }
   },
   "outputs": [],
   "source": [
    "\"Verifica inteiros\"\n",
    "\n",
    "assert sum_values(\"1m, +2m, -4m\", \"m\") == -1"
   ]
  },
  {
   "cell_type": "code",
   "execution_count": null,
   "metadata": {
    "deletable": false,
    "editable": false,
    "nbgrader": {
     "checksum": "a5aff858dda8b1fd577183b7ac9cda4d",
     "grade": true,
     "grade_id": "cell-e173ad18149803fa",
     "locked": true,
     "points": 0.75,
     "schema_version": 1,
     "solution": false
    }
   },
   "outputs": [],
   "source": [
    "\"Verifica se filtra grandezas\"\n",
    "\n",
    "assert sum_values(\"1.0m, 2.0m, 3.0s, 4.0m, 5\", \"m\") == 7.0"
   ]
  },
  {
   "cell_type": "code",
   "execution_count": null,
   "metadata": {
    "deletable": false,
    "editable": false,
    "nbgrader": {
     "checksum": "0a3759f003026c43cca8795d0516f07a",
     "grade": true,
     "grade_id": "cell-239f7170f4b285a6",
     "locked": true,
     "points": 0.75,
     "schema_version": 1,
     "solution": false
    }
   },
   "outputs": [],
   "source": [
    "\"Utiliza grandezas válidas\"\n",
    "\n",
    "assert sum_values(\"1.125m1m\", \"m\") == 2.125"
   ]
  },
  {
   "cell_type": "code",
   "execution_count": null,
   "metadata": {
    "deletable": false,
    "editable": false,
    "nbgrader": {
     "checksum": "2025516ce9323ad1f1bd672a1519c97d",
     "grade": true,
     "grade_id": "phys-ex",
     "locked": true,
     "points": 1,
     "schema_version": 1,
     "solution": false
    }
   },
   "outputs": [],
   "source": [
    "\"Verifica texto de exemplo\"\n",
    "\n",
    "text = \"\"\"\n",
    "Massa: 42kg\n",
    "Distâncias: 1.51km, -3.21km, +100km\n",
    "Duração: 5.0s\n",
    "\"\"\"\n",
    "\n",
    "assert sum_values(text, 'km') == 98.3"
   ]
  },
  {
   "cell_type": "markdown",
   "metadata": {
    "deletable": false,
    "editable": false,
    "nbgrader": {
     "checksum": "022fdd456828858faf6425230d55f600",
     "grade": false,
     "grade_id": "cell-63ae6299f888f7e2",
     "locked": true,
     "schema_version": 1,
     "solution": false
    }
   },
   "source": [
    "---\n",
    "## Palavras cruzadas Regex (3pts)\n",
    "\n",
    "Resolva a palavra cruzada de expressões regulares abaixo. A palavra cruzada de expressões regulares funciona de forma parecida com uma palavra cruzada tradicional, mas utiliza expressões regulares para definir o conteúdo de cada linha e cada coluna. \n",
    "\n",
    "Vocë deve completar cada célula na palavra cruzada com uma única letra. A palavra cruzada estará correta se todas linhas e todas colunas satisfizerem as expressões regulares correspondentes.\n",
    "\n",
    "É um jogo que valoriza a lógica e o raciocínio ao invés da memorização. Complete as duas palavras cruzadas abaixo e salve a resposta em uma varável chamada \"answer\", que pode ser uma string onde cada linha corresponde\n",
    "a uma linha da resposta."
   ]
  },
  {
   "cell_type": "markdown",
   "metadata": {
    "deletable": false,
    "editable": false,
    "nbgrader": {
     "checksum": "bc441ef77e6bcbe62ab74d0f9935fd2f",
     "grade": false,
     "grade_id": "cell-1b024dd95c680768",
     "locked": true,
     "schema_version": 1,
     "solution": false
    }
   },
   "source": [
    "### Palavra cruzada (yr, 1pt)"
   ]
  },
  {
   "cell_type": "code",
   "execution_count": null,
   "metadata": {
    "hideCode": false,
    "hidePrompt": false
   },
   "outputs": [],
   "source": [
    "regex_crossword_table(*CW[\"yr\"])"
   ]
  },
  {
   "cell_type": "code",
   "execution_count": null,
   "metadata": {
    "deletable": false,
    "nbgrader": {
     "checksum": "83f6e2f826ce6ab8b4ff86776c6ffb40",
     "grade": false,
     "grade_id": "cw1-answer",
     "locked": false,
     "schema_version": 1,
     "solution": true
    }
   },
   "outputs": [],
   "source": [
    "# Coloque sua resposta aqui!\n",
    "answer = \"\"\"\n",
    "linha-1\n",
    "linha-2\n",
    "linha-3\n",
    "\"\"\"\n",
    "..."
   ]
  },
  {
   "cell_type": "code",
   "execution_count": null,
   "metadata": {},
   "outputs": [],
   "source": [
    "# Área de experimentação (utilize como você quiser)\n",
    "..."
   ]
  },
  {
   "cell_type": "code",
   "execution_count": null,
   "metadata": {
    "deletable": false,
    "editable": false,
    "nbgrader": {
     "checksum": "18ee528b46034d294611cfc55c26de8d",
     "grade": true,
     "grade_id": "cw1",
     "locked": true,
     "points": 1.5,
     "schema_version": 1,
     "solution": false
    }
   },
   "outputs": [],
   "source": [
    "\"Verifica se a resposta está correta\"\n",
    "\n",
    "check_regex_crossword(answer, *CW[\"yr\"])"
   ]
  },
  {
   "cell_type": "markdown",
   "metadata": {
    "deletable": false,
    "editable": false,
    "nbgrader": {
     "checksum": "36c2bd72f0c2084f1e1acb2fe8b99ef3",
     "grade": false,
     "grade_id": "cell-61098025462b80d1",
     "locked": true,
     "schema_version": 1,
     "solution": false
    }
   },
   "source": [
    "### Palavra cruzada (john, 1pt)"
   ]
  },
  {
   "cell_type": "code",
   "execution_count": null,
   "metadata": {
    "hideCode": false,
    "hidePrompt": false
   },
   "outputs": [],
   "source": [
    "regex_crossword_table(*CW[\"john\"])"
   ]
  },
  {
   "cell_type": "code",
   "execution_count": null,
   "metadata": {
    "deletable": false,
    "nbgrader": {
     "checksum": "36c92b59c43a3e5674b16e1c9a6b0746",
     "grade": false,
     "grade_id": "cw2-answer",
     "locked": false,
     "schema_version": 1,
     "solution": true
    }
   },
   "outputs": [],
   "source": [
    "# Coloque sua resposta aqui!\n",
    "answer = \"\"\"\n",
    "linha-1\n",
    "linha-2\n",
    "linha-3\n",
    "\"\"\"\n",
    "..."
   ]
  },
  {
   "cell_type": "code",
   "execution_count": null,
   "metadata": {},
   "outputs": [],
   "source": [
    "# Área de experimentação (utilize como você quiser)\n",
    "..."
   ]
  },
  {
   "cell_type": "code",
   "execution_count": null,
   "metadata": {
    "deletable": false,
    "editable": false,
    "hidePrompt": false,
    "nbgrader": {
     "checksum": "ee981522019169c58a1430c485d37e91",
     "grade": true,
     "grade_id": "cw2",
     "locked": true,
     "points": 1.5,
     "schema_version": 1,
     "solution": false
    }
   },
   "outputs": [],
   "source": [
    "\"Verifica se a resposta está correta\"\n",
    "\n",
    "check_regex_crossword(answer, *CW[\"john\"])"
   ]
  }
 ],
 "metadata": {
  "kernelspec": {
   "display_name": "Python 3",
   "language": "python",
   "name": "python3"
  },
  "language_info": {
   "codemirror_mode": {
    "name": "ipython",
    "version": 3
   },
   "file_extension": ".py",
   "mimetype": "text/x-python",
   "name": "python",
   "nbconvert_exporter": "python",
   "pygments_lexer": "ipython3",
   "version": "3.7.4"
  }
 },
 "nbformat": 4,
 "nbformat_minor": 2
}
